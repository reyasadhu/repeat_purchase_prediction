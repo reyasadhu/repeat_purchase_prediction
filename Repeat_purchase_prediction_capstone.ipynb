{
 "cells": [
  {
   "cell_type": "code",
   "execution_count": 8,
   "id": "d83ddee9",
   "metadata": {},
   "outputs": [],
   "source": [
    "import warnings\n",
    "warnings.filterwarnings('ignore')\n",
    "import os, shutil,gc\n",
    "import random\n",
    "import numpy as np\n",
    "import pandas as pd\n",
    "import matplotlib.pyplot as plt\n",
    "import seaborn as sns\n",
    "%matplotlib inline\n",
    "from sklearn import metrics\n",
    "import xgboost as xgb\n",
    "from xgboost import XGBClassifier\n",
    "import datetime\n",
    "from functools import reduce"
   ]
  },
  {
   "cell_type": "markdown",
   "id": "a7f92e60",
   "metadata": {},
   "source": [
    "# Loading data"
   ]
  },
  {
   "cell_type": "code",
   "execution_count": 9,
   "id": "0fee51ae",
   "metadata": {},
   "outputs": [],
   "source": [
    "df=pd.read_csv(r'C:\\Users\\reya.sadhu\\OneDrive - Fractal Analytics Pvt. Ltd\\Documents\\Capstone\\Train.csv')"
   ]
  },
  {
   "cell_type": "markdown",
   "id": "247360aa",
   "metadata": {},
   "source": [
    "# EDA"
   ]
  },
  {
   "cell_type": "code",
   "execution_count": 10,
   "id": "7a0f3bd8",
   "metadata": {},
   "outputs": [
    {
     "data": {
      "text/html": [
       "<div>\n",
       "<style scoped>\n",
       "    .dataframe tbody tr th:only-of-type {\n",
       "        vertical-align: middle;\n",
       "    }\n",
       "\n",
       "    .dataframe tbody tr th {\n",
       "        vertical-align: top;\n",
       "    }\n",
       "\n",
       "    .dataframe thead th {\n",
       "        text-align: right;\n",
       "    }\n",
       "</style>\n",
       "<table border=\"1\" class=\"dataframe\">\n",
       "  <thead>\n",
       "    <tr style=\"text-align: right;\">\n",
       "      <th></th>\n",
       "      <th>Transaction_ID</th>\n",
       "      <th>Transaction_Date</th>\n",
       "      <th>Store_ID</th>\n",
       "      <th>Number_of_EMI</th>\n",
       "      <th>Purchased_in_Sale</th>\n",
       "      <th>Var1</th>\n",
       "      <th>Var2</th>\n",
       "      <th>Var3</th>\n",
       "      <th>Client_ID</th>\n",
       "      <th>Gender</th>\n",
       "      <th>DOB</th>\n",
       "      <th>Referred_Friend</th>\n",
       "      <th>Sales_Executive_ID</th>\n",
       "      <th>Sales_Executive_Category</th>\n",
       "      <th>Lead_Source_Category</th>\n",
       "      <th>Payment_Mode</th>\n",
       "      <th>Product_Category</th>\n",
       "      <th>Transaction_Amount</th>\n",
       "    </tr>\n",
       "  </thead>\n",
       "  <tbody>\n",
       "    <tr>\n",
       "      <th>0</th>\n",
       "      <td>TRA98825550</td>\n",
       "      <td>1-Jan-03</td>\n",
       "      <td>STO1281</td>\n",
       "      <td>2</td>\n",
       "      <td>N</td>\n",
       "      <td>1</td>\n",
       "      <td>1</td>\n",
       "      <td>1</td>\n",
       "      <td>345821599</td>\n",
       "      <td>F</td>\n",
       "      <td>19-Aug-71</td>\n",
       "      <td>NO</td>\n",
       "      <td>SD23011859</td>\n",
       "      <td>B</td>\n",
       "      <td>Advertisment</td>\n",
       "      <td>Credit/Debit Card</td>\n",
       "      <td>Cat A</td>\n",
       "      <td>17455</td>\n",
       "    </tr>\n",
       "    <tr>\n",
       "      <th>1</th>\n",
       "      <td>TRA98825710</td>\n",
       "      <td>1-Jan-03</td>\n",
       "      <td>STO1247</td>\n",
       "      <td>2</td>\n",
       "      <td>N</td>\n",
       "      <td>1</td>\n",
       "      <td>2</td>\n",
       "      <td>1</td>\n",
       "      <td>345821734</td>\n",
       "      <td>M</td>\n",
       "      <td>3-Jul-76</td>\n",
       "      <td>NO</td>\n",
       "      <td>SD23000293</td>\n",
       "      <td>B</td>\n",
       "      <td>Advertisment</td>\n",
       "      <td>Credit/Debit Card</td>\n",
       "      <td>Cat A</td>\n",
       "      <td>16503</td>\n",
       "    </tr>\n",
       "    <tr>\n",
       "      <th>2</th>\n",
       "      <td>TRA98823874</td>\n",
       "      <td>1-Jan-03</td>\n",
       "      <td>STO1244</td>\n",
       "      <td>2</td>\n",
       "      <td>N</td>\n",
       "      <td>1</td>\n",
       "      <td>1</td>\n",
       "      <td>1</td>\n",
       "      <td>345820365</td>\n",
       "      <td>F</td>\n",
       "      <td>4-Jan-59</td>\n",
       "      <td>NO</td>\n",
       "      <td>SD23011768</td>\n",
       "      <td>B</td>\n",
       "      <td>Advertisment</td>\n",
       "      <td>Credit/Debit Card</td>\n",
       "      <td>Cat A</td>\n",
       "      <td>15012</td>\n",
       "    </tr>\n",
       "    <tr>\n",
       "      <th>3</th>\n",
       "      <td>TRA98823889</td>\n",
       "      <td>1-Jan-03</td>\n",
       "      <td>STO1256</td>\n",
       "      <td>2</td>\n",
       "      <td>N</td>\n",
       "      <td>1</td>\n",
       "      <td>1</td>\n",
       "      <td>1</td>\n",
       "      <td>345820377</td>\n",
       "      <td>M</td>\n",
       "      <td>11-May-60</td>\n",
       "      <td>NO</td>\n",
       "      <td>SD23011691</td>\n",
       "      <td>B</td>\n",
       "      <td>Advertisment</td>\n",
       "      <td>Credit/Debit Card</td>\n",
       "      <td>Cat A</td>\n",
       "      <td>16051</td>\n",
       "    </tr>\n",
       "    <tr>\n",
       "      <th>4</th>\n",
       "      <td>TRA98824521</td>\n",
       "      <td>1-Jan-03</td>\n",
       "      <td>STO1445</td>\n",
       "      <td>2</td>\n",
       "      <td>N</td>\n",
       "      <td>1</td>\n",
       "      <td>2</td>\n",
       "      <td>1</td>\n",
       "      <td>345820841</td>\n",
       "      <td>F</td>\n",
       "      <td>24-Mar-62</td>\n",
       "      <td>NO</td>\n",
       "      <td>SD23003031</td>\n",
       "      <td>B</td>\n",
       "      <td>Reference</td>\n",
       "      <td>Cheque</td>\n",
       "      <td>Cat A</td>\n",
       "      <td>15108</td>\n",
       "    </tr>\n",
       "    <tr>\n",
       "      <th>5</th>\n",
       "      <td>TRA98824747</td>\n",
       "      <td>1-Jan-03</td>\n",
       "      <td>STO1233</td>\n",
       "      <td>2</td>\n",
       "      <td>N</td>\n",
       "      <td>1</td>\n",
       "      <td>1</td>\n",
       "      <td>1</td>\n",
       "      <td>345821008</td>\n",
       "      <td>M</td>\n",
       "      <td>11-Sep-75</td>\n",
       "      <td>NO</td>\n",
       "      <td>SD23011684</td>\n",
       "      <td>B</td>\n",
       "      <td>Advertisment</td>\n",
       "      <td>Cash</td>\n",
       "      <td>Cat A</td>\n",
       "      <td>17292</td>\n",
       "    </tr>\n",
       "    <tr>\n",
       "      <th>6</th>\n",
       "      <td>TRA98826034</td>\n",
       "      <td>1-Jan-03</td>\n",
       "      <td>STO1314</td>\n",
       "      <td>2</td>\n",
       "      <td>N</td>\n",
       "      <td>1</td>\n",
       "      <td>2</td>\n",
       "      <td>1</td>\n",
       "      <td>345821979</td>\n",
       "      <td>F</td>\n",
       "      <td>9-May-66</td>\n",
       "      <td>NO</td>\n",
       "      <td>SD23021263</td>\n",
       "      <td>B</td>\n",
       "      <td>Advertisment</td>\n",
       "      <td>Credit/Debit Card</td>\n",
       "      <td>Cat A</td>\n",
       "      <td>16982</td>\n",
       "    </tr>\n",
       "    <tr>\n",
       "      <th>7</th>\n",
       "      <td>TRA98825775</td>\n",
       "      <td>1-Jan-03</td>\n",
       "      <td>STO1243</td>\n",
       "      <td>2</td>\n",
       "      <td>N</td>\n",
       "      <td>1</td>\n",
       "      <td>2</td>\n",
       "      <td>1</td>\n",
       "      <td>345821781</td>\n",
       "      <td>M</td>\n",
       "      <td>19-Dec-57</td>\n",
       "      <td>YES</td>\n",
       "      <td>SD23012337</td>\n",
       "      <td>B</td>\n",
       "      <td>Advertisment</td>\n",
       "      <td>Credit/Debit Card</td>\n",
       "      <td>Cat A</td>\n",
       "      <td>20093</td>\n",
       "    </tr>\n",
       "    <tr>\n",
       "      <th>8</th>\n",
       "      <td>TRA98823882</td>\n",
       "      <td>1-Jan-03</td>\n",
       "      <td>STO1250</td>\n",
       "      <td>2</td>\n",
       "      <td>N</td>\n",
       "      <td>1</td>\n",
       "      <td>2</td>\n",
       "      <td>1</td>\n",
       "      <td>345820371</td>\n",
       "      <td>M</td>\n",
       "      <td>8-Aug-62</td>\n",
       "      <td>NO</td>\n",
       "      <td>SD23011854</td>\n",
       "      <td>B</td>\n",
       "      <td>Advertisment</td>\n",
       "      <td>Credit/Debit Card</td>\n",
       "      <td>Cat A</td>\n",
       "      <td>15495</td>\n",
       "    </tr>\n",
       "    <tr>\n",
       "      <th>9</th>\n",
       "      <td>TRA98824721</td>\n",
       "      <td>1-Jan-03</td>\n",
       "      <td>STO1291</td>\n",
       "      <td>2</td>\n",
       "      <td>N</td>\n",
       "      <td>1</td>\n",
       "      <td>1</td>\n",
       "      <td>1</td>\n",
       "      <td>345820984</td>\n",
       "      <td>M</td>\n",
       "      <td>21-Jan-81</td>\n",
       "      <td>YES</td>\n",
       "      <td>SD23011738</td>\n",
       "      <td>B</td>\n",
       "      <td>Advertisment</td>\n",
       "      <td>Cheque</td>\n",
       "      <td>Cat A</td>\n",
       "      <td>16592</td>\n",
       "    </tr>\n",
       "  </tbody>\n",
       "</table>\n",
       "</div>"
      ],
      "text/plain": [
       "  Transaction_ID Transaction_Date Store_ID  Number_of_EMI Purchased_in_Sale  \\\n",
       "0    TRA98825550         1-Jan-03  STO1281              2                 N   \n",
       "1    TRA98825710         1-Jan-03  STO1247              2                 N   \n",
       "2    TRA98823874         1-Jan-03  STO1244              2                 N   \n",
       "3    TRA98823889         1-Jan-03  STO1256              2                 N   \n",
       "4    TRA98824521         1-Jan-03  STO1445              2                 N   \n",
       "5    TRA98824747         1-Jan-03  STO1233              2                 N   \n",
       "6    TRA98826034         1-Jan-03  STO1314              2                 N   \n",
       "7    TRA98825775         1-Jan-03  STO1243              2                 N   \n",
       "8    TRA98823882         1-Jan-03  STO1250              2                 N   \n",
       "9    TRA98824721         1-Jan-03  STO1291              2                 N   \n",
       "\n",
       "   Var1  Var2  Var3  Client_ID Gender        DOB Referred_Friend  \\\n",
       "0     1     1     1  345821599      F  19-Aug-71              NO   \n",
       "1     1     2     1  345821734      M   3-Jul-76              NO   \n",
       "2     1     1     1  345820365      F   4-Jan-59              NO   \n",
       "3     1     1     1  345820377      M  11-May-60              NO   \n",
       "4     1     2     1  345820841      F  24-Mar-62              NO   \n",
       "5     1     1     1  345821008      M  11-Sep-75              NO   \n",
       "6     1     2     1  345821979      F   9-May-66              NO   \n",
       "7     1     2     1  345821781      M  19-Dec-57             YES   \n",
       "8     1     2     1  345820371      M   8-Aug-62              NO   \n",
       "9     1     1     1  345820984      M  21-Jan-81             YES   \n",
       "\n",
       "  Sales_Executive_ID Sales_Executive_Category Lead_Source_Category  \\\n",
       "0         SD23011859                        B         Advertisment   \n",
       "1         SD23000293                        B         Advertisment   \n",
       "2         SD23011768                        B         Advertisment   \n",
       "3         SD23011691                        B         Advertisment   \n",
       "4         SD23003031                        B            Reference   \n",
       "5         SD23011684                        B         Advertisment   \n",
       "6         SD23021263                        B         Advertisment   \n",
       "7         SD23012337                        B         Advertisment   \n",
       "8         SD23011854                        B         Advertisment   \n",
       "9         SD23011738                        B         Advertisment   \n",
       "\n",
       "        Payment_Mode Product_Category  Transaction_Amount  \n",
       "0  Credit/Debit Card            Cat A               17455  \n",
       "1  Credit/Debit Card            Cat A               16503  \n",
       "2  Credit/Debit Card            Cat A               15012  \n",
       "3  Credit/Debit Card            Cat A               16051  \n",
       "4             Cheque            Cat A               15108  \n",
       "5               Cash            Cat A               17292  \n",
       "6  Credit/Debit Card            Cat A               16982  \n",
       "7  Credit/Debit Card            Cat A               20093  \n",
       "8  Credit/Debit Card            Cat A               15495  \n",
       "9             Cheque            Cat A               16592  "
      ]
     },
     "execution_count": 10,
     "metadata": {},
     "output_type": "execute_result"
    }
   ],
   "source": [
    "df.head(10)"
   ]
  },
  {
   "cell_type": "code",
   "execution_count": 11,
   "id": "d7d5f055",
   "metadata": {},
   "outputs": [
    {
     "data": {
      "text/plain": [
       "(439541, 18)"
      ]
     },
     "execution_count": 11,
     "metadata": {},
     "output_type": "execute_result"
    }
   ],
   "source": [
    "df.shape"
   ]
  },
  {
   "cell_type": "code",
   "execution_count": 12,
   "id": "b1248c3c",
   "metadata": {},
   "outputs": [
    {
     "data": {
      "text/plain": [
       "Transaction_ID              object\n",
       "Transaction_Date            object\n",
       "Store_ID                    object\n",
       "Number_of_EMI                int64\n",
       "Purchased_in_Sale           object\n",
       "Var1                         int64\n",
       "Var2                         int64\n",
       "Var3                         int64\n",
       "Client_ID                    int64\n",
       "Gender                      object\n",
       "DOB                         object\n",
       "Referred_Friend             object\n",
       "Sales_Executive_ID          object\n",
       "Sales_Executive_Category    object\n",
       "Lead_Source_Category        object\n",
       "Payment_Mode                object\n",
       "Product_Category            object\n",
       "Transaction_Amount           int64\n",
       "dtype: object"
      ]
     },
     "execution_count": 12,
     "metadata": {},
     "output_type": "execute_result"
    }
   ],
   "source": [
    "df.dtypes"
   ]
  },
  {
   "cell_type": "code",
   "execution_count": 13,
   "id": "2498e474",
   "metadata": {},
   "outputs": [
    {
     "data": {
      "text/plain": [
       "Transaction_ID                  0\n",
       "Transaction_Date                0\n",
       "Store_ID                        0\n",
       "Number_of_EMI                   0\n",
       "Purchased_in_Sale               0\n",
       "Var1                            0\n",
       "Var2                            0\n",
       "Var3                            0\n",
       "Client_ID                       0\n",
       "Gender                          0\n",
       "DOB                             0\n",
       "Referred_Friend                 7\n",
       "Sales_Executive_ID              0\n",
       "Sales_Executive_Category        0\n",
       "Lead_Source_Category            0\n",
       "Payment_Mode                14513\n",
       "Product_Category                0\n",
       "Transaction_Amount              0\n",
       "dtype: int64"
      ]
     },
     "execution_count": 13,
     "metadata": {},
     "output_type": "execute_result"
    }
   ],
   "source": [
    "df.isnull().sum()"
   ]
  },
  {
   "cell_type": "code",
   "execution_count": 14,
   "id": "8690db4a",
   "metadata": {},
   "outputs": [
    {
     "data": {
      "text/plain": [
       "0"
      ]
     },
     "execution_count": 14,
     "metadata": {},
     "output_type": "execute_result"
    }
   ],
   "source": [
    "df.duplicated().sum()"
   ]
  },
  {
   "cell_type": "code",
   "execution_count": 15,
   "id": "de950ccd",
   "metadata": {},
   "outputs": [
    {
     "data": {
      "text/plain": [
       "22434"
      ]
     },
     "execution_count": 15,
     "metadata": {},
     "output_type": "execute_result"
    }
   ],
   "source": [
    "df['Client_ID'].duplicated().sum()"
   ]
  },
  {
   "cell_type": "code",
   "execution_count": 16,
   "id": "d8e0adc6",
   "metadata": {},
   "outputs": [],
   "source": [
    "df[\"no\"]=df.groupby('Client_ID')['Client_ID'].transform('count')"
   ]
  },
  {
   "cell_type": "code",
   "execution_count": 17,
   "id": "1e4312fb",
   "metadata": {},
   "outputs": [
    {
     "data": {
      "text/html": [
       "<div>\n",
       "<style scoped>\n",
       "    .dataframe tbody tr th:only-of-type {\n",
       "        vertical-align: middle;\n",
       "    }\n",
       "\n",
       "    .dataframe tbody tr th {\n",
       "        vertical-align: top;\n",
       "    }\n",
       "\n",
       "    .dataframe thead th {\n",
       "        text-align: right;\n",
       "    }\n",
       "</style>\n",
       "<table border=\"1\" class=\"dataframe\">\n",
       "  <thead>\n",
       "    <tr style=\"text-align: right;\">\n",
       "      <th></th>\n",
       "      <th>Transaction_ID</th>\n",
       "      <th>Transaction_Date</th>\n",
       "      <th>Store_ID</th>\n",
       "      <th>Number_of_EMI</th>\n",
       "      <th>Purchased_in_Sale</th>\n",
       "      <th>Var1</th>\n",
       "      <th>Var2</th>\n",
       "      <th>Var3</th>\n",
       "      <th>Client_ID</th>\n",
       "      <th>Gender</th>\n",
       "      <th>DOB</th>\n",
       "      <th>Referred_Friend</th>\n",
       "      <th>Sales_Executive_ID</th>\n",
       "      <th>Sales_Executive_Category</th>\n",
       "      <th>Lead_Source_Category</th>\n",
       "      <th>Payment_Mode</th>\n",
       "      <th>Product_Category</th>\n",
       "      <th>Transaction_Amount</th>\n",
       "      <th>no</th>\n",
       "    </tr>\n",
       "  </thead>\n",
       "  <tbody>\n",
       "    <tr>\n",
       "      <th>0</th>\n",
       "      <td>TRA98825550</td>\n",
       "      <td>1-Jan-03</td>\n",
       "      <td>STO1281</td>\n",
       "      <td>2</td>\n",
       "      <td>N</td>\n",
       "      <td>1</td>\n",
       "      <td>1</td>\n",
       "      <td>1</td>\n",
       "      <td>345821599</td>\n",
       "      <td>F</td>\n",
       "      <td>19-Aug-71</td>\n",
       "      <td>NO</td>\n",
       "      <td>SD23011859</td>\n",
       "      <td>B</td>\n",
       "      <td>Advertisment</td>\n",
       "      <td>Credit/Debit Card</td>\n",
       "      <td>Cat A</td>\n",
       "      <td>17455</td>\n",
       "      <td>1</td>\n",
       "    </tr>\n",
       "    <tr>\n",
       "      <th>1</th>\n",
       "      <td>TRA98825710</td>\n",
       "      <td>1-Jan-03</td>\n",
       "      <td>STO1247</td>\n",
       "      <td>2</td>\n",
       "      <td>N</td>\n",
       "      <td>1</td>\n",
       "      <td>2</td>\n",
       "      <td>1</td>\n",
       "      <td>345821734</td>\n",
       "      <td>M</td>\n",
       "      <td>3-Jul-76</td>\n",
       "      <td>NO</td>\n",
       "      <td>SD23000293</td>\n",
       "      <td>B</td>\n",
       "      <td>Advertisment</td>\n",
       "      <td>Credit/Debit Card</td>\n",
       "      <td>Cat A</td>\n",
       "      <td>16503</td>\n",
       "      <td>1</td>\n",
       "    </tr>\n",
       "    <tr>\n",
       "      <th>2</th>\n",
       "      <td>TRA98823874</td>\n",
       "      <td>1-Jan-03</td>\n",
       "      <td>STO1244</td>\n",
       "      <td>2</td>\n",
       "      <td>N</td>\n",
       "      <td>1</td>\n",
       "      <td>1</td>\n",
       "      <td>1</td>\n",
       "      <td>345820365</td>\n",
       "      <td>F</td>\n",
       "      <td>4-Jan-59</td>\n",
       "      <td>NO</td>\n",
       "      <td>SD23011768</td>\n",
       "      <td>B</td>\n",
       "      <td>Advertisment</td>\n",
       "      <td>Credit/Debit Card</td>\n",
       "      <td>Cat A</td>\n",
       "      <td>15012</td>\n",
       "      <td>1</td>\n",
       "    </tr>\n",
       "    <tr>\n",
       "      <th>3</th>\n",
       "      <td>TRA98823889</td>\n",
       "      <td>1-Jan-03</td>\n",
       "      <td>STO1256</td>\n",
       "      <td>2</td>\n",
       "      <td>N</td>\n",
       "      <td>1</td>\n",
       "      <td>1</td>\n",
       "      <td>1</td>\n",
       "      <td>345820377</td>\n",
       "      <td>M</td>\n",
       "      <td>11-May-60</td>\n",
       "      <td>NO</td>\n",
       "      <td>SD23011691</td>\n",
       "      <td>B</td>\n",
       "      <td>Advertisment</td>\n",
       "      <td>Credit/Debit Card</td>\n",
       "      <td>Cat A</td>\n",
       "      <td>16051</td>\n",
       "      <td>1</td>\n",
       "    </tr>\n",
       "    <tr>\n",
       "      <th>4</th>\n",
       "      <td>TRA98824521</td>\n",
       "      <td>1-Jan-03</td>\n",
       "      <td>STO1445</td>\n",
       "      <td>2</td>\n",
       "      <td>N</td>\n",
       "      <td>1</td>\n",
       "      <td>2</td>\n",
       "      <td>1</td>\n",
       "      <td>345820841</td>\n",
       "      <td>F</td>\n",
       "      <td>24-Mar-62</td>\n",
       "      <td>NO</td>\n",
       "      <td>SD23003031</td>\n",
       "      <td>B</td>\n",
       "      <td>Reference</td>\n",
       "      <td>Cheque</td>\n",
       "      <td>Cat A</td>\n",
       "      <td>15108</td>\n",
       "      <td>1</td>\n",
       "    </tr>\n",
       "    <tr>\n",
       "      <th>5</th>\n",
       "      <td>TRA98824747</td>\n",
       "      <td>1-Jan-03</td>\n",
       "      <td>STO1233</td>\n",
       "      <td>2</td>\n",
       "      <td>N</td>\n",
       "      <td>1</td>\n",
       "      <td>1</td>\n",
       "      <td>1</td>\n",
       "      <td>345821008</td>\n",
       "      <td>M</td>\n",
       "      <td>11-Sep-75</td>\n",
       "      <td>NO</td>\n",
       "      <td>SD23011684</td>\n",
       "      <td>B</td>\n",
       "      <td>Advertisment</td>\n",
       "      <td>Cash</td>\n",
       "      <td>Cat A</td>\n",
       "      <td>17292</td>\n",
       "      <td>1</td>\n",
       "    </tr>\n",
       "    <tr>\n",
       "      <th>6</th>\n",
       "      <td>TRA98826034</td>\n",
       "      <td>1-Jan-03</td>\n",
       "      <td>STO1314</td>\n",
       "      <td>2</td>\n",
       "      <td>N</td>\n",
       "      <td>1</td>\n",
       "      <td>2</td>\n",
       "      <td>1</td>\n",
       "      <td>345821979</td>\n",
       "      <td>F</td>\n",
       "      <td>9-May-66</td>\n",
       "      <td>NO</td>\n",
       "      <td>SD23021263</td>\n",
       "      <td>B</td>\n",
       "      <td>Advertisment</td>\n",
       "      <td>Credit/Debit Card</td>\n",
       "      <td>Cat A</td>\n",
       "      <td>16982</td>\n",
       "      <td>1</td>\n",
       "    </tr>\n",
       "    <tr>\n",
       "      <th>7</th>\n",
       "      <td>TRA98825775</td>\n",
       "      <td>1-Jan-03</td>\n",
       "      <td>STO1243</td>\n",
       "      <td>2</td>\n",
       "      <td>N</td>\n",
       "      <td>1</td>\n",
       "      <td>2</td>\n",
       "      <td>1</td>\n",
       "      <td>345821781</td>\n",
       "      <td>M</td>\n",
       "      <td>19-Dec-57</td>\n",
       "      <td>YES</td>\n",
       "      <td>SD23012337</td>\n",
       "      <td>B</td>\n",
       "      <td>Advertisment</td>\n",
       "      <td>Credit/Debit Card</td>\n",
       "      <td>Cat A</td>\n",
       "      <td>20093</td>\n",
       "      <td>1</td>\n",
       "    </tr>\n",
       "    <tr>\n",
       "      <th>8</th>\n",
       "      <td>TRA98823882</td>\n",
       "      <td>1-Jan-03</td>\n",
       "      <td>STO1250</td>\n",
       "      <td>2</td>\n",
       "      <td>N</td>\n",
       "      <td>1</td>\n",
       "      <td>2</td>\n",
       "      <td>1</td>\n",
       "      <td>345820371</td>\n",
       "      <td>M</td>\n",
       "      <td>8-Aug-62</td>\n",
       "      <td>NO</td>\n",
       "      <td>SD23011854</td>\n",
       "      <td>B</td>\n",
       "      <td>Advertisment</td>\n",
       "      <td>Credit/Debit Card</td>\n",
       "      <td>Cat A</td>\n",
       "      <td>15495</td>\n",
       "      <td>1</td>\n",
       "    </tr>\n",
       "    <tr>\n",
       "      <th>9</th>\n",
       "      <td>TRA98824721</td>\n",
       "      <td>1-Jan-03</td>\n",
       "      <td>STO1291</td>\n",
       "      <td>2</td>\n",
       "      <td>N</td>\n",
       "      <td>1</td>\n",
       "      <td>1</td>\n",
       "      <td>1</td>\n",
       "      <td>345820984</td>\n",
       "      <td>M</td>\n",
       "      <td>21-Jan-81</td>\n",
       "      <td>YES</td>\n",
       "      <td>SD23011738</td>\n",
       "      <td>B</td>\n",
       "      <td>Advertisment</td>\n",
       "      <td>Cheque</td>\n",
       "      <td>Cat A</td>\n",
       "      <td>16592</td>\n",
       "      <td>1</td>\n",
       "    </tr>\n",
       "  </tbody>\n",
       "</table>\n",
       "</div>"
      ],
      "text/plain": [
       "  Transaction_ID Transaction_Date Store_ID  Number_of_EMI Purchased_in_Sale  \\\n",
       "0    TRA98825550         1-Jan-03  STO1281              2                 N   \n",
       "1    TRA98825710         1-Jan-03  STO1247              2                 N   \n",
       "2    TRA98823874         1-Jan-03  STO1244              2                 N   \n",
       "3    TRA98823889         1-Jan-03  STO1256              2                 N   \n",
       "4    TRA98824521         1-Jan-03  STO1445              2                 N   \n",
       "5    TRA98824747         1-Jan-03  STO1233              2                 N   \n",
       "6    TRA98826034         1-Jan-03  STO1314              2                 N   \n",
       "7    TRA98825775         1-Jan-03  STO1243              2                 N   \n",
       "8    TRA98823882         1-Jan-03  STO1250              2                 N   \n",
       "9    TRA98824721         1-Jan-03  STO1291              2                 N   \n",
       "\n",
       "   Var1  Var2  Var3  Client_ID Gender        DOB Referred_Friend  \\\n",
       "0     1     1     1  345821599      F  19-Aug-71              NO   \n",
       "1     1     2     1  345821734      M   3-Jul-76              NO   \n",
       "2     1     1     1  345820365      F   4-Jan-59              NO   \n",
       "3     1     1     1  345820377      M  11-May-60              NO   \n",
       "4     1     2     1  345820841      F  24-Mar-62              NO   \n",
       "5     1     1     1  345821008      M  11-Sep-75              NO   \n",
       "6     1     2     1  345821979      F   9-May-66              NO   \n",
       "7     1     2     1  345821781      M  19-Dec-57             YES   \n",
       "8     1     2     1  345820371      M   8-Aug-62              NO   \n",
       "9     1     1     1  345820984      M  21-Jan-81             YES   \n",
       "\n",
       "  Sales_Executive_ID Sales_Executive_Category Lead_Source_Category  \\\n",
       "0         SD23011859                        B         Advertisment   \n",
       "1         SD23000293                        B         Advertisment   \n",
       "2         SD23011768                        B         Advertisment   \n",
       "3         SD23011691                        B         Advertisment   \n",
       "4         SD23003031                        B            Reference   \n",
       "5         SD23011684                        B         Advertisment   \n",
       "6         SD23021263                        B         Advertisment   \n",
       "7         SD23012337                        B         Advertisment   \n",
       "8         SD23011854                        B         Advertisment   \n",
       "9         SD23011738                        B         Advertisment   \n",
       "\n",
       "        Payment_Mode Product_Category  Transaction_Amount  no  \n",
       "0  Credit/Debit Card            Cat A               17455   1  \n",
       "1  Credit/Debit Card            Cat A               16503   1  \n",
       "2  Credit/Debit Card            Cat A               15012   1  \n",
       "3  Credit/Debit Card            Cat A               16051   1  \n",
       "4             Cheque            Cat A               15108   1  \n",
       "5               Cash            Cat A               17292   1  \n",
       "6  Credit/Debit Card            Cat A               16982   1  \n",
       "7  Credit/Debit Card            Cat A               20093   1  \n",
       "8  Credit/Debit Card            Cat A               15495   1  \n",
       "9             Cheque            Cat A               16592   1  "
      ]
     },
     "execution_count": 17,
     "metadata": {},
     "output_type": "execute_result"
    }
   ],
   "source": [
    "df.head(10)"
   ]
  },
  {
   "cell_type": "code",
   "execution_count": 18,
   "id": "258c4816",
   "metadata": {},
   "outputs": [
    {
     "data": {
      "text/plain": [
       "<matplotlib.collections.PathCollection at 0x2e056a77dc0>"
      ]
     },
     "execution_count": 18,
     "metadata": {},
     "output_type": "execute_result"
    },
    {
     "data": {
      "image/png": "[encoded data removed]",
      "text/plain": [
       "<Figure size 1440x504 with 1 Axes>"
      ]
     },
     "metadata": {
      "needs_background": "light"
     },
     "output_type": "display_data"
    }
   ],
   "source": [
    "df[\"no\"]=df.groupby('Client_ID')['Client_ID'].transform('count')\n",
    "plt.figure(figsize=(20,7))\n",
    "df1=df[df['no']>9]\n",
    "plt.scatter(x=df1['Client_ID'],y=df1['Transaction_Amount'])"
   ]
  },
  {
   "cell_type": "code",
   "execution_count": 19,
   "id": "d1837770",
   "metadata": {},
   "outputs": [
    {
     "data": {
      "text/plain": [
       "Timestamp('2006-12-31 00:00:00')"
      ]
     },
     "execution_count": 19,
     "metadata": {},
     "output_type": "execute_result"
    }
   ],
   "source": [
    "df['Transaction_Date']=pd.to_datetime(df['Transaction_Date'])\n",
    "df['Transaction_Date'].max()"
   ]
  },
  {
   "cell_type": "code",
   "execution_count": 20,
   "id": "1f87d78f",
   "metadata": {},
   "outputs": [
    {
     "data": {
      "text/plain": [
       "Timestamp('2003-01-01 00:00:00')"
      ]
     },
     "execution_count": 20,
     "metadata": {},
     "output_type": "execute_result"
    }
   ],
   "source": [
    "df['Transaction_Date'].min()"
   ]
  },
  {
   "cell_type": "markdown",
   "id": "d79fc740",
   "metadata": {},
   "source": [
    "The data holds transaction history from the first day of 2003 to the last day of 2006."
   ]
  },
  {
   "cell_type": "code",
   "execution_count": 21,
   "id": "03a5e832",
   "metadata": {},
   "outputs": [
    {
     "data": {
      "text/plain": [
       "NO     383739\n",
       "YES     55795\n",
       "Name: Referred_Friend, dtype: int64"
      ]
     },
     "execution_count": 21,
     "metadata": {},
     "output_type": "execute_result"
    }
   ],
   "source": [
    "df['Referred_Friend'].value_counts()"
   ]
  },
  {
   "cell_type": "code",
   "execution_count": 22,
   "id": "b71cd1cf",
   "metadata": {},
   "outputs": [
    {
     "data": {
      "text/plain": [
       "Credit/Debit Card    290041\n",
       "Cheque                61433\n",
       "Cash                  58480\n",
       "Other                 15074\n",
       "Name: Payment_Mode, dtype: int64"
      ]
     },
     "execution_count": 22,
     "metadata": {},
     "output_type": "execute_result"
    }
   ],
   "source": [
    "df['Payment_Mode'].value_counts()"
   ]
  },
  {
   "cell_type": "markdown",
   "id": "045cbdf2",
   "metadata": {},
   "source": [
    "As there are very few values missing in Referred_friend column, we replace it with the mode of the column. But from the Payment mode, a large no of values are missing. So, instead of imputing it, we replace them with Unknown."
   ]
  },
  {
   "cell_type": "code",
   "execution_count": 23,
   "id": "756adac9",
   "metadata": {},
   "outputs": [],
   "source": [
    "df['Referred_Friend'].fillna(df['Referred_Friend'].mode()[0],inplace=True)\n",
    "df['Payment_Mode'].fillna('Unknown',inplace=True)"
   ]
  },
  {
   "cell_type": "code",
   "execution_count": 24,
   "id": "609c8153",
   "metadata": {},
   "outputs": [
    {
     "data": {
      "text/plain": [
       "2    320392\n",
       "3     86675\n",
       "1     21248\n",
       "8      8033\n",
       "6      3193\n",
       "Name: Number_of_EMI, dtype: int64"
      ]
     },
     "execution_count": 24,
     "metadata": {},
     "output_type": "execute_result"
    }
   ],
   "source": [
    "df['Number_of_EMI'].value_counts()"
   ]
  },
  {
   "cell_type": "code",
   "execution_count": 25,
   "id": "fd83f614",
   "metadata": {},
   "outputs": [
    {
     "data": {
      "text/plain": [
       "N    418293\n",
       "Y     21248\n",
       "Name: Purchased_in_Sale, dtype: int64"
      ]
     },
     "execution_count": 25,
     "metadata": {},
     "output_type": "execute_result"
    }
   ],
   "source": [
    "df['Purchased_in_Sale'].value_counts()"
   ]
  },
  {
   "cell_type": "code",
   "execution_count": 26,
   "id": "b136569d",
   "metadata": {},
   "outputs": [
    {
     "data": {
      "text/plain": [
       "M    322499\n",
       "F    117039\n",
       "          2\n",
       "C         1\n",
       "Name: Gender, dtype: int64"
      ]
     },
     "execution_count": 26,
     "metadata": {},
     "output_type": "execute_result"
    }
   ],
   "source": [
    "df['Gender'].value_counts()"
   ]
  },
  {
   "cell_type": "code",
   "execution_count": 27,
   "id": "b13afe06",
   "metadata": {},
   "outputs": [],
   "source": [
    "df['Gender']=np.where(df['Gender']==' ','M',df['Gender'])\n",
    "df['Gender']=np.where(df['Gender']=='C','M',df['Gender'])"
   ]
  },
  {
   "cell_type": "code",
   "execution_count": 28,
   "id": "fdf78c4e",
   "metadata": {},
   "outputs": [
    {
     "data": {
      "text/plain": [
       "B    221641\n",
       "A    178975\n",
       "C     26633\n",
       "E     10117\n",
       "D      2175\n",
       "Name: Sales_Executive_Category, dtype: int64"
      ]
     },
     "execution_count": 28,
     "metadata": {},
     "output_type": "execute_result"
    }
   ],
   "source": [
    "df['Sales_Executive_Category'].value_counts()"
   ]
  },
  {
   "cell_type": "code",
   "execution_count": 29,
   "id": "a2fbc527",
   "metadata": {},
   "outputs": [
    {
     "data": {
      "text/plain": [
       "Advertisment    241935\n",
       "Walkin          170419\n",
       "Reference        18154\n",
       "Other             9033\n",
       "Name: Lead_Source_Category, dtype: int64"
      ]
     },
     "execution_count": 29,
     "metadata": {},
     "output_type": "execute_result"
    }
   ],
   "source": [
    "df['Lead_Source_Category'].value_counts()"
   ]
  },
  {
   "cell_type": "code",
   "execution_count": 30,
   "id": "a316f838",
   "metadata": {},
   "outputs": [
    {
     "data": {
      "text/plain": [
       "Cat B    227225\n",
       "Cat A     84575\n",
       "Cat D     52360\n",
       "Cat C     44049\n",
       "Cat H     26263\n",
       "Cat F      4566\n",
       "Cat G       472\n",
       "Cat E        31\n",
       "Name: Product_Category, dtype: int64"
      ]
     },
     "execution_count": 30,
     "metadata": {},
     "output_type": "execute_result"
    }
   ],
   "source": [
    "df['Product_Category'].value_counts()"
   ]
  },
  {
   "cell_type": "code",
   "execution_count": 31,
   "id": "14f7c61e",
   "metadata": {},
   "outputs": [
    {
     "data": {
      "text/plain": [
       "298"
      ]
     },
     "execution_count": 31,
     "metadata": {},
     "output_type": "execute_result"
    }
   ],
   "source": [
    "len(df['Store_ID'].unique())"
   ]
  },
  {
   "cell_type": "markdown",
   "id": "ee2e50e4",
   "metadata": {},
   "source": [
    "We can consider it a important categorical feature and hot encode it."
   ]
  },
  {
   "cell_type": "code",
   "execution_count": 32,
   "id": "5af90456",
   "metadata": {},
   "outputs": [
    {
     "data": {
      "text/plain": [
       "36567"
      ]
     },
     "execution_count": 32,
     "metadata": {},
     "output_type": "execute_result"
    }
   ],
   "source": [
    "len(df['Sales_Executive_ID'].unique())"
   ]
  },
  {
   "cell_type": "markdown",
   "id": "e9ce4b73",
   "metadata": {},
   "source": [
    "we cannot hot encode this column, because there will be 36567 more features."
   ]
  },
  {
   "cell_type": "markdown",
   "id": "94f675ab",
   "metadata": {},
   "source": [
    "# Feature Engineering"
   ]
  },
  {
   "cell_type": "code",
   "execution_count": 33,
   "id": "b79be659",
   "metadata": {},
   "outputs": [],
   "source": [
    "df['DOB'] = pd.to_datetime(df['DOB'].str[:-2] + '19' + df['DOB'].str[-2:])\n",
    "df['Age']=(datetime.datetime(2007, 1, 1)-df['DOB'])/ np.timedelta64(1, 'D')"
   ]
  },
  {
   "cell_type": "markdown",
   "id": "32569d20",
   "metadata": {},
   "source": [
    "We compute the age as par 1st January,2007."
   ]
  },
  {
   "cell_type": "code",
   "execution_count": 35,
   "id": "3a2311ee",
   "metadata": {},
   "outputs": [],
   "source": [
    "df['Age']=df['Age'].astype('int')\n",
    "df['Age']=df['Age']/365"
   ]
  },
  {
   "cell_type": "code",
   "execution_count": 36,
   "id": "0cceed59",
   "metadata": {},
   "outputs": [],
   "source": [
    "df['Transaction_Year']=pd.DatetimeIndex(df['Transaction_Date']).year\n",
    "df['Transaction_Month']=df['Transaction_Date'].dt.strftime('%Y-%m')"
   ]
  },
  {
   "cell_type": "code",
   "execution_count": 37,
   "id": "11feb94c",
   "metadata": {},
   "outputs": [],
   "source": [
    "df['Gender']=np.where(df['Gender']=='F',1,0)\n",
    "df['Purchased_in_Sale']=np.where(df['Purchased_in_Sale']=='Y',1,0)"
   ]
  },
  {
   "cell_type": "code",
   "execution_count": 38,
   "id": "c07181c2",
   "metadata": {},
   "outputs": [],
   "source": [
    "df['Sales_Executive_ID']=df['Sales_Executive_ID'].str[6:]\n",
    "df['Sales_Executive_ID']=df['Sales_Executive_ID'].astype(int)"
   ]
  },
  {
   "cell_type": "code",
   "execution_count": 39,
   "id": "9d4d2791",
   "metadata": {},
   "outputs": [],
   "source": [
    "X_b1=df[df['Transaction_Year']<2006]\n",
    "X_b2=df[df['Transaction_Year']<2005]\n",
    "X_v1=df[df['Transaction_Year']==2006]\n",
    "X_v2=df[df['Transaction_Year']==2005]\n",
    "X_all=df"
   ]
  },
  {
   "cell_type": "code",
   "execution_count": 63,
   "id": "142aef26",
   "metadata": {},
   "outputs": [
    {
     "data": {
      "text/html": [
       "<div>\n",
       "<style scoped>\n",
       "    .dataframe tbody tr th:only-of-type {\n",
       "        vertical-align: middle;\n",
       "    }\n",
       "\n",
       "    .dataframe tbody tr th {\n",
       "        vertical-align: top;\n",
       "    }\n",
       "\n",
       "    .dataframe thead th {\n",
       "        text-align: right;\n",
       "    }\n",
       "</style>\n",
       "<table border=\"1\" class=\"dataframe\">\n",
       "  <thead>\n",
       "    <tr style=\"text-align: right;\">\n",
       "      <th></th>\n",
       "      <th>Transaction_ID</th>\n",
       "      <th>Transaction_Date</th>\n",
       "      <th>Store_ID</th>\n",
       "      <th>Number_of_EMI</th>\n",
       "      <th>Purchased_in_Sale</th>\n",
       "      <th>Var1</th>\n",
       "      <th>Var2</th>\n",
       "      <th>Var3</th>\n",
       "      <th>Client_ID</th>\n",
       "      <th>Gender</th>\n",
       "      <th>...</th>\n",
       "      <th>Sales_Executive_ID</th>\n",
       "      <th>Sales_Executive_Category</th>\n",
       "      <th>Lead_Source_Category</th>\n",
       "      <th>Payment_Mode</th>\n",
       "      <th>Product_Category</th>\n",
       "      <th>Transaction_Amount</th>\n",
       "      <th>no</th>\n",
       "      <th>Age</th>\n",
       "      <th>Transaction_Year</th>\n",
       "      <th>Transaction_Month</th>\n",
       "    </tr>\n",
       "  </thead>\n",
       "  <tbody>\n",
       "    <tr>\n",
       "      <th>21325</th>\n",
       "      <td>TRA98970508</td>\n",
       "      <td>2003-04-05</td>\n",
       "      <td>STO1392</td>\n",
       "      <td>2</td>\n",
       "      <td>0</td>\n",
       "      <td>1</td>\n",
       "      <td>1</td>\n",
       "      <td>1</td>\n",
       "      <td>345629580</td>\n",
       "      <td>0</td>\n",
       "      <td>...</td>\n",
       "      <td>3083</td>\n",
       "      <td>A</td>\n",
       "      <td>Walkin</td>\n",
       "      <td>Cash</td>\n",
       "      <td>Cat B</td>\n",
       "      <td>72000</td>\n",
       "      <td>19</td>\n",
       "      <td>38.035616</td>\n",
       "      <td>2003</td>\n",
       "      <td>2003-04</td>\n",
       "    </tr>\n",
       "    <tr>\n",
       "      <th>44450</th>\n",
       "      <td>TRA99159556</td>\n",
       "      <td>2003-07-14</td>\n",
       "      <td>STO1392</td>\n",
       "      <td>2</td>\n",
       "      <td>0</td>\n",
       "      <td>1</td>\n",
       "      <td>1</td>\n",
       "      <td>1</td>\n",
       "      <td>345629580</td>\n",
       "      <td>0</td>\n",
       "      <td>...</td>\n",
       "      <td>5095</td>\n",
       "      <td>A</td>\n",
       "      <td>Walkin</td>\n",
       "      <td>Cash</td>\n",
       "      <td>Cat B</td>\n",
       "      <td>22800</td>\n",
       "      <td>19</td>\n",
       "      <td>38.032877</td>\n",
       "      <td>2003</td>\n",
       "      <td>2003-07</td>\n",
       "    </tr>\n",
       "    <tr>\n",
       "      <th>69665</th>\n",
       "      <td>TRA99255687</td>\n",
       "      <td>2003-08-26</td>\n",
       "      <td>STO1392</td>\n",
       "      <td>6</td>\n",
       "      <td>0</td>\n",
       "      <td>3</td>\n",
       "      <td>1</td>\n",
       "      <td>1</td>\n",
       "      <td>345629580</td>\n",
       "      <td>0</td>\n",
       "      <td>...</td>\n",
       "      <td>3083</td>\n",
       "      <td>A</td>\n",
       "      <td>Walkin</td>\n",
       "      <td>Unknown</td>\n",
       "      <td>Cat A</td>\n",
       "      <td>15888</td>\n",
       "      <td>19</td>\n",
       "      <td>38.035616</td>\n",
       "      <td>2003</td>\n",
       "      <td>2003-08</td>\n",
       "    </tr>\n",
       "    <tr>\n",
       "      <th>69940</th>\n",
       "      <td>TRA99253427</td>\n",
       "      <td>2003-08-26</td>\n",
       "      <td>STO1392</td>\n",
       "      <td>6</td>\n",
       "      <td>0</td>\n",
       "      <td>3</td>\n",
       "      <td>1</td>\n",
       "      <td>1</td>\n",
       "      <td>345629580</td>\n",
       "      <td>0</td>\n",
       "      <td>...</td>\n",
       "      <td>3083</td>\n",
       "      <td>A</td>\n",
       "      <td>Walkin</td>\n",
       "      <td>Unknown</td>\n",
       "      <td>Cat B</td>\n",
       "      <td>22800</td>\n",
       "      <td>19</td>\n",
       "      <td>38.038356</td>\n",
       "      <td>2003</td>\n",
       "      <td>2003-08</td>\n",
       "    </tr>\n",
       "    <tr>\n",
       "      <th>69941</th>\n",
       "      <td>TRA99253860</td>\n",
       "      <td>2003-08-26</td>\n",
       "      <td>STO1392</td>\n",
       "      <td>6</td>\n",
       "      <td>0</td>\n",
       "      <td>3</td>\n",
       "      <td>1</td>\n",
       "      <td>1</td>\n",
       "      <td>345629580</td>\n",
       "      <td>0</td>\n",
       "      <td>...</td>\n",
       "      <td>3083</td>\n",
       "      <td>A</td>\n",
       "      <td>Walkin</td>\n",
       "      <td>Unknown</td>\n",
       "      <td>Cat B</td>\n",
       "      <td>19200</td>\n",
       "      <td>19</td>\n",
       "      <td>38.032877</td>\n",
       "      <td>2003</td>\n",
       "      <td>2003-08</td>\n",
       "    </tr>\n",
       "    <tr>\n",
       "      <th>69942</th>\n",
       "      <td>TRA99253916</td>\n",
       "      <td>2003-08-26</td>\n",
       "      <td>STO1392</td>\n",
       "      <td>2</td>\n",
       "      <td>0</td>\n",
       "      <td>1</td>\n",
       "      <td>1</td>\n",
       "      <td>1</td>\n",
       "      <td>345629580</td>\n",
       "      <td>0</td>\n",
       "      <td>...</td>\n",
       "      <td>3083</td>\n",
       "      <td>A</td>\n",
       "      <td>Walkin</td>\n",
       "      <td>Cash</td>\n",
       "      <td>Cat B</td>\n",
       "      <td>23400</td>\n",
       "      <td>19</td>\n",
       "      <td>38.038356</td>\n",
       "      <td>2003</td>\n",
       "      <td>2003-08</td>\n",
       "    </tr>\n",
       "    <tr>\n",
       "      <th>69943</th>\n",
       "      <td>TRA99251034</td>\n",
       "      <td>2003-08-26</td>\n",
       "      <td>STO1392</td>\n",
       "      <td>6</td>\n",
       "      <td>0</td>\n",
       "      <td>3</td>\n",
       "      <td>1</td>\n",
       "      <td>1</td>\n",
       "      <td>345629580</td>\n",
       "      <td>0</td>\n",
       "      <td>...</td>\n",
       "      <td>9140</td>\n",
       "      <td>A</td>\n",
       "      <td>Walkin</td>\n",
       "      <td>Unknown</td>\n",
       "      <td>Cat B</td>\n",
       "      <td>22200</td>\n",
       "      <td>19</td>\n",
       "      <td>38.032877</td>\n",
       "      <td>2003</td>\n",
       "      <td>2003-08</td>\n",
       "    </tr>\n",
       "    <tr>\n",
       "      <th>71174</th>\n",
       "      <td>TRA99252754</td>\n",
       "      <td>2003-08-26</td>\n",
       "      <td>STO1392</td>\n",
       "      <td>6</td>\n",
       "      <td>0</td>\n",
       "      <td>3</td>\n",
       "      <td>1</td>\n",
       "      <td>1</td>\n",
       "      <td>345629580</td>\n",
       "      <td>0</td>\n",
       "      <td>...</td>\n",
       "      <td>3083</td>\n",
       "      <td>A</td>\n",
       "      <td>Walkin</td>\n",
       "      <td>Unknown</td>\n",
       "      <td>Cat B</td>\n",
       "      <td>51136</td>\n",
       "      <td>19</td>\n",
       "      <td>38.032877</td>\n",
       "      <td>2003</td>\n",
       "      <td>2003-08</td>\n",
       "    </tr>\n",
       "    <tr>\n",
       "      <th>71175</th>\n",
       "      <td>TRA99253455</td>\n",
       "      <td>2003-08-26</td>\n",
       "      <td>STO1392</td>\n",
       "      <td>2</td>\n",
       "      <td>0</td>\n",
       "      <td>3</td>\n",
       "      <td>1</td>\n",
       "      <td>1</td>\n",
       "      <td>345629580</td>\n",
       "      <td>0</td>\n",
       "      <td>...</td>\n",
       "      <td>5095</td>\n",
       "      <td>A</td>\n",
       "      <td>Walkin</td>\n",
       "      <td>Cheque</td>\n",
       "      <td>Cat B</td>\n",
       "      <td>60724</td>\n",
       "      <td>19</td>\n",
       "      <td>38.038356</td>\n",
       "      <td>2003</td>\n",
       "      <td>2003-08</td>\n",
       "    </tr>\n",
       "    <tr>\n",
       "      <th>71838</th>\n",
       "      <td>TRA99256935</td>\n",
       "      <td>2003-08-27</td>\n",
       "      <td>STO1392</td>\n",
       "      <td>2</td>\n",
       "      <td>0</td>\n",
       "      <td>3</td>\n",
       "      <td>1</td>\n",
       "      <td>1</td>\n",
       "      <td>345629580</td>\n",
       "      <td>0</td>\n",
       "      <td>...</td>\n",
       "      <td>5095</td>\n",
       "      <td>A</td>\n",
       "      <td>Walkin</td>\n",
       "      <td>Credit/Debit Card</td>\n",
       "      <td>Cat B</td>\n",
       "      <td>18600</td>\n",
       "      <td>19</td>\n",
       "      <td>38.038356</td>\n",
       "      <td>2003</td>\n",
       "      <td>2003-08</td>\n",
       "    </tr>\n",
       "    <tr>\n",
       "      <th>71839</th>\n",
       "      <td>TRA99257659</td>\n",
       "      <td>2003-08-27</td>\n",
       "      <td>STO1392</td>\n",
       "      <td>6</td>\n",
       "      <td>0</td>\n",
       "      <td>3</td>\n",
       "      <td>1</td>\n",
       "      <td>1</td>\n",
       "      <td>345629580</td>\n",
       "      <td>0</td>\n",
       "      <td>...</td>\n",
       "      <td>5916</td>\n",
       "      <td>A</td>\n",
       "      <td>Walkin</td>\n",
       "      <td>Unknown</td>\n",
       "      <td>Cat B</td>\n",
       "      <td>21000</td>\n",
       "      <td>19</td>\n",
       "      <td>38.035616</td>\n",
       "      <td>2003</td>\n",
       "      <td>2003-08</td>\n",
       "    </tr>\n",
       "    <tr>\n",
       "      <th>72166</th>\n",
       "      <td>TRA99257402</td>\n",
       "      <td>2003-08-27</td>\n",
       "      <td>STO1392</td>\n",
       "      <td>6</td>\n",
       "      <td>0</td>\n",
       "      <td>3</td>\n",
       "      <td>1</td>\n",
       "      <td>1</td>\n",
       "      <td>345629580</td>\n",
       "      <td>0</td>\n",
       "      <td>...</td>\n",
       "      <td>3083</td>\n",
       "      <td>A</td>\n",
       "      <td>Walkin</td>\n",
       "      <td>Unknown</td>\n",
       "      <td>Cat C</td>\n",
       "      <td>38520</td>\n",
       "      <td>19</td>\n",
       "      <td>38.038356</td>\n",
       "      <td>2003</td>\n",
       "      <td>2003-08</td>\n",
       "    </tr>\n",
       "    <tr>\n",
       "      <th>72948</th>\n",
       "      <td>TRA99258056</td>\n",
       "      <td>2003-08-27</td>\n",
       "      <td>STO1392</td>\n",
       "      <td>2</td>\n",
       "      <td>0</td>\n",
       "      <td>1</td>\n",
       "      <td>1</td>\n",
       "      <td>1</td>\n",
       "      <td>345629580</td>\n",
       "      <td>0</td>\n",
       "      <td>...</td>\n",
       "      <td>3083</td>\n",
       "      <td>A</td>\n",
       "      <td>Walkin</td>\n",
       "      <td>Cash</td>\n",
       "      <td>Cat B</td>\n",
       "      <td>59126</td>\n",
       "      <td>19</td>\n",
       "      <td>38.035616</td>\n",
       "      <td>2003</td>\n",
       "      <td>2003-08</td>\n",
       "    </tr>\n",
       "    <tr>\n",
       "      <th>73684</th>\n",
       "      <td>TRA99261101</td>\n",
       "      <td>2003-08-28</td>\n",
       "      <td>STO1392</td>\n",
       "      <td>6</td>\n",
       "      <td>0</td>\n",
       "      <td>1</td>\n",
       "      <td>1</td>\n",
       "      <td>1</td>\n",
       "      <td>345629580</td>\n",
       "      <td>0</td>\n",
       "      <td>...</td>\n",
       "      <td>3083</td>\n",
       "      <td>A</td>\n",
       "      <td>Walkin</td>\n",
       "      <td>Cash</td>\n",
       "      <td>Cat A</td>\n",
       "      <td>24301</td>\n",
       "      <td>19</td>\n",
       "      <td>38.035616</td>\n",
       "      <td>2003</td>\n",
       "      <td>2003-08</td>\n",
       "    </tr>\n",
       "    <tr>\n",
       "      <th>74804</th>\n",
       "      <td>TRA99265047</td>\n",
       "      <td>2003-09-01</td>\n",
       "      <td>STO1392</td>\n",
       "      <td>6</td>\n",
       "      <td>0</td>\n",
       "      <td>1</td>\n",
       "      <td>1</td>\n",
       "      <td>1</td>\n",
       "      <td>345629580</td>\n",
       "      <td>0</td>\n",
       "      <td>...</td>\n",
       "      <td>5584</td>\n",
       "      <td>A</td>\n",
       "      <td>Walkin</td>\n",
       "      <td>Cheque</td>\n",
       "      <td>Cat B</td>\n",
       "      <td>35200</td>\n",
       "      <td>19</td>\n",
       "      <td>38.032877</td>\n",
       "      <td>2003</td>\n",
       "      <td>2003-09</td>\n",
       "    </tr>\n",
       "    <tr>\n",
       "      <th>371530</th>\n",
       "      <td>TRA99251183</td>\n",
       "      <td>2003-08-26</td>\n",
       "      <td>STO1392</td>\n",
       "      <td>6</td>\n",
       "      <td>0</td>\n",
       "      <td>1</td>\n",
       "      <td>1</td>\n",
       "      <td>1</td>\n",
       "      <td>345629580</td>\n",
       "      <td>0</td>\n",
       "      <td>...</td>\n",
       "      <td>3083</td>\n",
       "      <td>A</td>\n",
       "      <td>Walkin</td>\n",
       "      <td>Cash</td>\n",
       "      <td>Cat D</td>\n",
       "      <td>70200</td>\n",
       "      <td>19</td>\n",
       "      <td>38.032877</td>\n",
       "      <td>2003</td>\n",
       "      <td>2003-08</td>\n",
       "    </tr>\n",
       "    <tr>\n",
       "      <th>371677</th>\n",
       "      <td>TRA99251475</td>\n",
       "      <td>2003-08-26</td>\n",
       "      <td>STO1392</td>\n",
       "      <td>6</td>\n",
       "      <td>0</td>\n",
       "      <td>3</td>\n",
       "      <td>1</td>\n",
       "      <td>1</td>\n",
       "      <td>345629580</td>\n",
       "      <td>0</td>\n",
       "      <td>...</td>\n",
       "      <td>3083</td>\n",
       "      <td>A</td>\n",
       "      <td>Walkin</td>\n",
       "      <td>Unknown</td>\n",
       "      <td>Cat D</td>\n",
       "      <td>66600</td>\n",
       "      <td>19</td>\n",
       "      <td>38.032877</td>\n",
       "      <td>2003</td>\n",
       "      <td>2003-08</td>\n",
       "    </tr>\n",
       "    <tr>\n",
       "      <th>371678</th>\n",
       "      <td>TRA99255143</td>\n",
       "      <td>2003-08-26</td>\n",
       "      <td>STO1392</td>\n",
       "      <td>6</td>\n",
       "      <td>0</td>\n",
       "      <td>1</td>\n",
       "      <td>1</td>\n",
       "      <td>1</td>\n",
       "      <td>345629580</td>\n",
       "      <td>0</td>\n",
       "      <td>...</td>\n",
       "      <td>3083</td>\n",
       "      <td>A</td>\n",
       "      <td>Walkin</td>\n",
       "      <td>Cash</td>\n",
       "      <td>Cat D</td>\n",
       "      <td>59400</td>\n",
       "      <td>19</td>\n",
       "      <td>38.032877</td>\n",
       "      <td>2003</td>\n",
       "      <td>2003-08</td>\n",
       "    </tr>\n",
       "    <tr>\n",
       "      <th>372029</th>\n",
       "      <td>TRA99258951</td>\n",
       "      <td>2003-08-27</td>\n",
       "      <td>STO1392</td>\n",
       "      <td>6</td>\n",
       "      <td>0</td>\n",
       "      <td>3</td>\n",
       "      <td>1</td>\n",
       "      <td>1</td>\n",
       "      <td>345629580</td>\n",
       "      <td>0</td>\n",
       "      <td>...</td>\n",
       "      <td>6960</td>\n",
       "      <td>A</td>\n",
       "      <td>Walkin</td>\n",
       "      <td>Unknown</td>\n",
       "      <td>Cat D</td>\n",
       "      <td>68000</td>\n",
       "      <td>19</td>\n",
       "      <td>38.032877</td>\n",
       "      <td>2003</td>\n",
       "      <td>2003-08</td>\n",
       "    </tr>\n",
       "  </tbody>\n",
       "</table>\n",
       "<p>19 rows × 22 columns</p>\n",
       "</div>"
      ],
      "text/plain": [
       "       Transaction_ID Transaction_Date Store_ID  Number_of_EMI  \\\n",
       "21325     TRA98970508       2003-04-05  STO1392              2   \n",
       "44450     TRA99159556       2003-07-14  STO1392              2   \n",
       "69665     TRA99255687       2003-08-26  STO1392              6   \n",
       "69940     TRA99253427       2003-08-26  STO1392              6   \n",
       "69941     TRA99253860       2003-08-26  STO1392              6   \n",
       "69942     TRA99253916       2003-08-26  STO1392              2   \n",
       "69943     TRA99251034       2003-08-26  STO1392              6   \n",
       "71174     TRA99252754       2003-08-26  STO1392              6   \n",
       "71175     TRA99253455       2003-08-26  STO1392              2   \n",
       "71838     TRA99256935       2003-08-27  STO1392              2   \n",
       "71839     TRA99257659       2003-08-27  STO1392              6   \n",
       "72166     TRA99257402       2003-08-27  STO1392              6   \n",
       "72948     TRA99258056       2003-08-27  STO1392              2   \n",
       "73684     TRA99261101       2003-08-28  STO1392              6   \n",
       "74804     TRA99265047       2003-09-01  STO1392              6   \n",
       "371530    TRA99251183       2003-08-26  STO1392              6   \n",
       "371677    TRA99251475       2003-08-26  STO1392              6   \n",
       "371678    TRA99255143       2003-08-26  STO1392              6   \n",
       "372029    TRA99258951       2003-08-27  STO1392              6   \n",
       "\n",
       "        Purchased_in_Sale  Var1  Var2  Var3  Client_ID  Gender  ...  \\\n",
       "21325                   0     1     1     1  345629580       0  ...   \n",
       "44450                   0     1     1     1  345629580       0  ...   \n",
       "69665                   0     3     1     1  345629580       0  ...   \n",
       "69940                   0     3     1     1  345629580       0  ...   \n",
       "69941                   0     3     1     1  345629580       0  ...   \n",
       "69942                   0     1     1     1  345629580       0  ...   \n",
       "69943                   0     3     1     1  345629580       0  ...   \n",
       "71174                   0     3     1     1  345629580       0  ...   \n",
       "71175                   0     3     1     1  345629580       0  ...   \n",
       "71838                   0     3     1     1  345629580       0  ...   \n",
       "71839                   0     3     1     1  345629580       0  ...   \n",
       "72166                   0     3     1     1  345629580       0  ...   \n",
       "72948                   0     1     1     1  345629580       0  ...   \n",
       "73684                   0     1     1     1  345629580       0  ...   \n",
       "74804                   0     1     1     1  345629580       0  ...   \n",
       "371530                  0     1     1     1  345629580       0  ...   \n",
       "371677                  0     3     1     1  345629580       0  ...   \n",
       "371678                  0     1     1     1  345629580       0  ...   \n",
       "372029                  0     3     1     1  345629580       0  ...   \n",
       "\n",
       "       Sales_Executive_ID Sales_Executive_Category  Lead_Source_Category  \\\n",
       "21325                3083                        A                Walkin   \n",
       "44450                5095                        A                Walkin   \n",
       "69665                3083                        A                Walkin   \n",
       "69940                3083                        A                Walkin   \n",
       "69941                3083                        A                Walkin   \n",
       "69942                3083                        A                Walkin   \n",
       "69943                9140                        A                Walkin   \n",
       "71174                3083                        A                Walkin   \n",
       "71175                5095                        A                Walkin   \n",
       "71838                5095                        A                Walkin   \n",
       "71839                5916                        A                Walkin   \n",
       "72166                3083                        A                Walkin   \n",
       "72948                3083                        A                Walkin   \n",
       "73684                3083                        A                Walkin   \n",
       "74804                5584                        A                Walkin   \n",
       "371530               3083                        A                Walkin   \n",
       "371677               3083                        A                Walkin   \n",
       "371678               3083                        A                Walkin   \n",
       "372029               6960                        A                Walkin   \n",
       "\n",
       "             Payment_Mode Product_Category Transaction_Amount  no        Age  \\\n",
       "21325                Cash            Cat B              72000  19  38.035616   \n",
       "44450                Cash            Cat B              22800  19  38.032877   \n",
       "69665             Unknown            Cat A              15888  19  38.035616   \n",
       "69940             Unknown            Cat B              22800  19  38.038356   \n",
       "69941             Unknown            Cat B              19200  19  38.032877   \n",
       "69942                Cash            Cat B              23400  19  38.038356   \n",
       "69943             Unknown            Cat B              22200  19  38.032877   \n",
       "71174             Unknown            Cat B              51136  19  38.032877   \n",
       "71175              Cheque            Cat B              60724  19  38.038356   \n",
       "71838   Credit/Debit Card            Cat B              18600  19  38.038356   \n",
       "71839             Unknown            Cat B              21000  19  38.035616   \n",
       "72166             Unknown            Cat C              38520  19  38.038356   \n",
       "72948                Cash            Cat B              59126  19  38.035616   \n",
       "73684                Cash            Cat A              24301  19  38.035616   \n",
       "74804              Cheque            Cat B              35200  19  38.032877   \n",
       "371530               Cash            Cat D              70200  19  38.032877   \n",
       "371677            Unknown            Cat D              66600  19  38.032877   \n",
       "371678               Cash            Cat D              59400  19  38.032877   \n",
       "372029            Unknown            Cat D              68000  19  38.032877   \n",
       "\n",
       "        Transaction_Year  Transaction_Month  \n",
       "21325               2003            2003-04  \n",
       "44450               2003            2003-07  \n",
       "69665               2003            2003-08  \n",
       "69940               2003            2003-08  \n",
       "69941               2003            2003-08  \n",
       "69942               2003            2003-08  \n",
       "69943               2003            2003-08  \n",
       "71174               2003            2003-08  \n",
       "71175               2003            2003-08  \n",
       "71838               2003            2003-08  \n",
       "71839               2003            2003-08  \n",
       "72166               2003            2003-08  \n",
       "72948               2003            2003-08  \n",
       "73684               2003            2003-08  \n",
       "74804               2003            2003-09  \n",
       "371530              2003            2003-08  \n",
       "371677              2003            2003-08  \n",
       "371678              2003            2003-08  \n",
       "372029              2003            2003-08  \n",
       "\n",
       "[19 rows x 22 columns]"
      ]
     },
     "execution_count": 63,
     "metadata": {},
     "output_type": "execute_result"
    }
   ],
   "source": [
    "X_b1[X_b1['Client_ID']==345629580]"
   ]
  },
  {
   "cell_type": "code",
   "execution_count": 71,
   "id": "0a8d4be4",
   "metadata": {},
   "outputs": [],
   "source": [
    "temp=X_b1.groupby(['Client_ID','Transaction_Month']).size().reset_index()"
   ]
  },
  {
   "cell_type": "code",
   "execution_count": 72,
   "id": "14bfd0a1",
   "metadata": {},
   "outputs": [
    {
     "data": {
      "text/html": [
       "<div>\n",
       "<style scoped>\n",
       "    .dataframe tbody tr th:only-of-type {\n",
       "        vertical-align: middle;\n",
       "    }\n",
       "\n",
       "    .dataframe tbody tr th {\n",
       "        vertical-align: top;\n",
       "    }\n",
       "\n",
       "    .dataframe thead th {\n",
       "        text-align: right;\n",
       "    }\n",
       "</style>\n",
       "<table border=\"1\" class=\"dataframe\">\n",
       "  <thead>\n",
       "    <tr style=\"text-align: right;\">\n",
       "      <th></th>\n",
       "      <th>Client_ID</th>\n",
       "      <th>Transaction_Month</th>\n",
       "      <th>0</th>\n",
       "    </tr>\n",
       "  </thead>\n",
       "  <tbody>\n",
       "    <tr>\n",
       "      <th>144</th>\n",
       "      <td>345629580</td>\n",
       "      <td>2003-04</td>\n",
       "      <td>1</td>\n",
       "    </tr>\n",
       "    <tr>\n",
       "      <th>145</th>\n",
       "      <td>345629580</td>\n",
       "      <td>2003-07</td>\n",
       "      <td>1</td>\n",
       "    </tr>\n",
       "    <tr>\n",
       "      <th>146</th>\n",
       "      <td>345629580</td>\n",
       "      <td>2003-08</td>\n",
       "      <td>16</td>\n",
       "    </tr>\n",
       "    <tr>\n",
       "      <th>147</th>\n",
       "      <td>345629580</td>\n",
       "      <td>2003-09</td>\n",
       "      <td>1</td>\n",
       "    </tr>\n",
       "  </tbody>\n",
       "</table>\n",
       "</div>"
      ],
      "text/plain": [
       "     Client_ID Transaction_Month   0\n",
       "144  345629580           2003-04   1\n",
       "145  345629580           2003-07   1\n",
       "146  345629580           2003-08  16\n",
       "147  345629580           2003-09   1"
      ]
     },
     "execution_count": 72,
     "metadata": {},
     "output_type": "execute_result"
    }
   ],
   "source": [
    "temp[temp['Client_ID']==345629580]"
   ]
  },
  {
   "cell_type": "code",
   "execution_count": 73,
   "id": "3b6073a2",
   "metadata": {},
   "outputs": [],
   "source": [
    "temp=temp.groupby(['Client_ID']).size().reset_index()"
   ]
  },
  {
   "cell_type": "code",
   "execution_count": 74,
   "id": "a97f508f",
   "metadata": {},
   "outputs": [
    {
     "data": {
      "text/html": [
       "<div>\n",
       "<style scoped>\n",
       "    .dataframe tbody tr th:only-of-type {\n",
       "        vertical-align: middle;\n",
       "    }\n",
       "\n",
       "    .dataframe tbody tr th {\n",
       "        vertical-align: top;\n",
       "    }\n",
       "\n",
       "    .dataframe thead th {\n",
       "        text-align: right;\n",
       "    }\n",
       "</style>\n",
       "<table border=\"1\" class=\"dataframe\">\n",
       "  <thead>\n",
       "    <tr style=\"text-align: right;\">\n",
       "      <th></th>\n",
       "      <th>Client_ID</th>\n",
       "      <th>0</th>\n",
       "    </tr>\n",
       "  </thead>\n",
       "  <tbody>\n",
       "    <tr>\n",
       "      <th>118</th>\n",
       "      <td>345629580</td>\n",
       "      <td>4</td>\n",
       "    </tr>\n",
       "  </tbody>\n",
       "</table>\n",
       "</div>"
      ],
      "text/plain": [
       "     Client_ID  0\n",
       "118  345629580  4"
      ]
     },
     "execution_count": 74,
     "metadata": {},
     "output_type": "execute_result"
    }
   ],
   "source": [
    "temp[temp['Client_ID']==345629580]"
   ]
  },
  {
   "cell_type": "code",
   "execution_count": 80,
   "id": "3fd49f62",
   "metadata": {},
   "outputs": [],
   "source": [
    "t=X_b1.groupby(['Client_ID']).agg({\"Transaction_Month\":pd.Series.nunique}).reset_index()"
   ]
  },
  {
   "cell_type": "code",
   "execution_count": 81,
   "id": "035e701f",
   "metadata": {},
   "outputs": [
    {
     "data": {
      "text/html": [
       "<div>\n",
       "<style scoped>\n",
       "    .dataframe tbody tr th:only-of-type {\n",
       "        vertical-align: middle;\n",
       "    }\n",
       "\n",
       "    .dataframe tbody tr th {\n",
       "        vertical-align: top;\n",
       "    }\n",
       "\n",
       "    .dataframe thead th {\n",
       "        text-align: right;\n",
       "    }\n",
       "</style>\n",
       "<table border=\"1\" class=\"dataframe\">\n",
       "  <thead>\n",
       "    <tr style=\"text-align: right;\">\n",
       "      <th></th>\n",
       "      <th>Client_ID</th>\n",
       "      <th>Transaction_Month</th>\n",
       "    </tr>\n",
       "  </thead>\n",
       "  <tbody>\n",
       "    <tr>\n",
       "      <th>118</th>\n",
       "      <td>345629580</td>\n",
       "      <td>4</td>\n",
       "    </tr>\n",
       "  </tbody>\n",
       "</table>\n",
       "</div>"
      ],
      "text/plain": [
       "     Client_ID  Transaction_Month\n",
       "118  345629580                  4"
      ]
     },
     "execution_count": 81,
     "metadata": {},
     "output_type": "execute_result"
    }
   ],
   "source": [
    "t[t['Client_ID']==345629580]"
   ]
  },
  {
   "cell_type": "code",
   "execution_count": 82,
   "id": "d7b02421",
   "metadata": {},
   "outputs": [],
   "source": [
    "var1=(pd.crosstab(index=X_b1['Client_ID'], columns=[X_b1['Var1']])).reset_index()"
   ]
  },
  {
   "cell_type": "code",
   "execution_count": 83,
   "id": "09e6d607",
   "metadata": {},
   "outputs": [
    {
     "data": {
      "text/html": [
       "<div>\n",
       "<style scoped>\n",
       "    .dataframe tbody tr th:only-of-type {\n",
       "        vertical-align: middle;\n",
       "    }\n",
       "\n",
       "    .dataframe tbody tr th {\n",
       "        vertical-align: top;\n",
       "    }\n",
       "\n",
       "    .dataframe thead th {\n",
       "        text-align: right;\n",
       "    }\n",
       "</style>\n",
       "<table border=\"1\" class=\"dataframe\">\n",
       "  <thead>\n",
       "    <tr style=\"text-align: right;\">\n",
       "      <th>Var1</th>\n",
       "      <th>Client_ID</th>\n",
       "      <th>1</th>\n",
       "      <th>2</th>\n",
       "      <th>3</th>\n",
       "    </tr>\n",
       "  </thead>\n",
       "  <tbody>\n",
       "    <tr>\n",
       "      <th>0</th>\n",
       "      <td>345612161</td>\n",
       "      <td>1</td>\n",
       "      <td>0</td>\n",
       "      <td>0</td>\n",
       "    </tr>\n",
       "    <tr>\n",
       "      <th>1</th>\n",
       "      <td>345612467</td>\n",
       "      <td>1</td>\n",
       "      <td>0</td>\n",
       "      <td>0</td>\n",
       "    </tr>\n",
       "    <tr>\n",
       "      <th>2</th>\n",
       "      <td>345612552</td>\n",
       "      <td>0</td>\n",
       "      <td>1</td>\n",
       "      <td>0</td>\n",
       "    </tr>\n",
       "    <tr>\n",
       "      <th>3</th>\n",
       "      <td>345612557</td>\n",
       "      <td>0</td>\n",
       "      <td>1</td>\n",
       "      <td>0</td>\n",
       "    </tr>\n",
       "    <tr>\n",
       "      <th>4</th>\n",
       "      <td>345612625</td>\n",
       "      <td>1</td>\n",
       "      <td>1</td>\n",
       "      <td>0</td>\n",
       "    </tr>\n",
       "    <tr>\n",
       "      <th>...</th>\n",
       "      <td>...</td>\n",
       "      <td>...</td>\n",
       "      <td>...</td>\n",
       "      <td>...</td>\n",
       "    </tr>\n",
       "    <tr>\n",
       "      <th>345969</th>\n",
       "      <td>346550814</td>\n",
       "      <td>1</td>\n",
       "      <td>0</td>\n",
       "      <td>0</td>\n",
       "    </tr>\n",
       "    <tr>\n",
       "      <th>345970</th>\n",
       "      <td>346550815</td>\n",
       "      <td>1</td>\n",
       "      <td>0</td>\n",
       "      <td>0</td>\n",
       "    </tr>\n",
       "    <tr>\n",
       "      <th>345971</th>\n",
       "      <td>346550818</td>\n",
       "      <td>1</td>\n",
       "      <td>0</td>\n",
       "      <td>0</td>\n",
       "    </tr>\n",
       "    <tr>\n",
       "      <th>345972</th>\n",
       "      <td>346550821</td>\n",
       "      <td>1</td>\n",
       "      <td>0</td>\n",
       "      <td>0</td>\n",
       "    </tr>\n",
       "    <tr>\n",
       "      <th>345973</th>\n",
       "      <td>346550823</td>\n",
       "      <td>1</td>\n",
       "      <td>0</td>\n",
       "      <td>0</td>\n",
       "    </tr>\n",
       "  </tbody>\n",
       "</table>\n",
       "<p>345974 rows × 4 columns</p>\n",
       "</div>"
      ],
      "text/plain": [
       "Var1    Client_ID  1  2  3\n",
       "0       345612161  1  0  0\n",
       "1       345612467  1  0  0\n",
       "2       345612552  0  1  0\n",
       "3       345612557  0  1  0\n",
       "4       345612625  1  1  0\n",
       "...           ... .. .. ..\n",
       "345969  346550814  1  0  0\n",
       "345970  346550815  1  0  0\n",
       "345971  346550818  1  0  0\n",
       "345972  346550821  1  0  0\n",
       "345973  346550823  1  0  0\n",
       "\n",
       "[345974 rows x 4 columns]"
      ]
     },
     "execution_count": 83,
     "metadata": {},
     "output_type": "execute_result"
    }
   ],
   "source": [
    "var1"
   ]
  },
  {
   "cell_type": "code",
   "execution_count": 21,
   "id": "ce465c30",
   "metadata": {},
   "outputs": [],
   "source": [
    "def transform(s,y):\n",
    "    month=s.groupby(['Client_ID','Transaction_Month']).size().reset_index()\n",
    "    count=month.groupby(['Client_ID']).size().reset_index()\n",
    "    Age=s.groupby(['Client_ID']).agg({\"Age\":\"mean\"}).reset_index()\n",
    "    Gender=s.groupby(['Client_ID']).agg({\"Gender\":\"mean\"}).reset_index()\n",
    "    Sale=s.groupby(['Client_ID']).agg({\"Purchased_in_Sale\":\"mean\"}).reset_index()\n",
    "    executive_id=s.groupby(['Client_ID']).agg({\"Sales_Executive_ID\":\"median\"}).reset_index()\n",
    "    Source=(pd.crosstab(index=s['Client_ID'], columns=[s['Lead_Source_Category']])).reset_index()\n",
    "    var1=(pd.crosstab(index=s['Client_ID'], columns=[s['Var1']])).reset_index()\n",
    "    var2=(pd.crosstab(index=s['Client_ID'], columns=[s['Var2']])).reset_index()\n",
    "    var3=(pd.crosstab(index=s['Client_ID'], columns=[s['Var3']])).reset_index()\n",
    "    friend=(pd.crosstab(index=s['Client_ID'], columns=[s['Referred_Friend']])).reset_index()\n",
    "    executive=(pd.crosstab(index=s['Client_ID'], columns=[s['Sales_Executive_Category']])).reset_index()\n",
    "    payment=(pd.crosstab(index=s['Client_ID'], columns=[s['Payment_Mode']])).reset_index()\n",
    "    store=(pd.crosstab(index=s['Client_ID'], columns=[s['Store_ID']])).reset_index()\n",
    "    product=(pd.crosstab(index=s['Client_ID'], columns=[s['Product_Category']])).reset_index()\n",
    "    date=s.groupby('Client_ID').agg({\"Transaction_Date\":\"max\"}).reset_index()\n",
    "    if(y==2006):\n",
    "        dt=np.datetime64(\"2006-01-01\")\n",
    "    elif(y==2007):\n",
    "        dt=np.datetime64(\"2007-01-01\")\n",
    "    else:\n",
    "        dt=np.datetime64(\"2005-01-01\")\n",
    "    date[\"Transaction_Date\"]=(dt-date['Transaction_Date'])/np.timedelta64(1, 'D')\n",
    "    final=reduce(lambda x,y: pd.merge(x,y, on='Client_ID', how='outer'), \n",
    "                 [count,Age,Gender,Sale,executive_id,Source,var1,var2,var3,friend,executive,payment,store,product,date])\n",
    "    return final"
   ]
  },
  {
   "cell_type": "markdown",
   "id": "d53ec7dd",
   "metadata": {},
   "source": [
    "Including transaction_amount in the feature engineering reduces the test auc score . I have tried with max, min, range, mean and median of transaction amount. Everything reduces the AUC score in the test set. So, for the final model, I have excluded them. May be a combination of central tendency would give a better score."
   ]
  },
  {
   "cell_type": "code",
   "execution_count": 22,
   "id": "68cf9745",
   "metadata": {},
   "outputs": [],
   "source": [
    "X_train_1=transform(X_b1,2006)\n",
    "X_train_2=transform(X_b2,2005)\n",
    "X_test=transform(X_all,2007)"
   ]
  },
  {
   "cell_type": "markdown",
   "id": "771ba90a",
   "metadata": {},
   "source": [
    "Now, if a client is in X_v1, that means he made a purchase on 2006. So from X_train_1. which are the sets of clients who purchased before 2006, who are present in X_v1, are labelled 1, since they are repeating. Same for X_train_2 and X_v2."
   ]
  },
  {
   "cell_type": "code",
   "execution_count": 23,
   "id": "18c7778b",
   "metadata": {},
   "outputs": [],
   "source": [
    "a=set(X_v1['Client_ID'])\n",
    "X_train_1['label']=np.where(X_train_1['Client_ID'].isin(a),1,0)\n",
    "b=set(X_v2['Client_ID'])\n",
    "X_train_2['label']=np.where(X_train_2['Client_ID'].isin(b),1,0)"
   ]
  },
  {
   "cell_type": "code",
   "execution_count": 106,
   "id": "bf42418d",
   "metadata": {},
   "outputs": [
    {
     "data": {
      "text/plain": [
       "0    344424\n",
       "1      1550\n",
       "Name: label, dtype: int64"
      ]
     },
     "execution_count": 106,
     "metadata": {},
     "output_type": "execute_result"
    }
   ],
   "source": [
    "X_train_1['label'].value_counts()"
   ]
  },
  {
   "cell_type": "code",
   "execution_count": 107,
   "id": "b10e8f43",
   "metadata": {},
   "outputs": [
    {
     "data": {
      "text/plain": [
       "0    246877\n",
       "1      1903\n",
       "Name: label, dtype: int64"
      ]
     },
     "execution_count": 107,
     "metadata": {},
     "output_type": "execute_result"
    }
   ],
   "source": [
    "X_train_2['label'].value_counts()"
   ]
  },
  {
   "cell_type": "markdown",
   "id": "a16efae2",
   "metadata": {},
   "source": [
    "We can see the data is highly imbalanced. So, our target will be improving the AUC score and not the accuracy."
   ]
  },
  {
   "cell_type": "code",
   "execution_count": 24,
   "id": "4ce7df15",
   "metadata": {},
   "outputs": [],
   "source": [
    "target1=X_train_1['label']\n",
    "X_train_1.drop(['label'],axis=1,inplace=True)\n",
    "target2=X_train_2['label']\n",
    "X_train_2.drop(['label'],axis=1,inplace=True)"
   ]
  },
  {
   "cell_type": "markdown",
   "id": "2b39a5a8",
   "metadata": {},
   "source": [
    "We merge two training sets in 1 training set."
   ]
  },
  {
   "cell_type": "code",
   "execution_count": 25,
   "id": "e70e1901",
   "metadata": {},
   "outputs": [],
   "source": [
    "X_train=(pd.concat([X_train_1,X_train_2])).reset_index(drop=True)\n",
    "y_train=np.concatenate((target1, target2))"
   ]
  },
  {
   "cell_type": "markdown",
   "id": "0fd39f7a",
   "metadata": {},
   "source": [
    "The test data set can have some columns different than this merged training set due to presence of different categories in a feature. So from the test set, we drop the columns which are not in the training set and add which are in training set.\n"
   ]
  },
  {
   "cell_type": "code",
   "execution_count": 26,
   "id": "15000461",
   "metadata": {},
   "outputs": [],
   "source": [
    "for col in X_train.columns:\n",
    "    if col not in X_test.columns:\n",
    "        X_test[col]=0\n",
    "for col in X_test.columns:\n",
    "    if col not in X_train.columns:\n",
    "        X_test.drop([col],axis=1,inplace=True)"
   ]
  },
  {
   "cell_type": "code",
   "execution_count": 27,
   "id": "30c42e25",
   "metadata": {},
   "outputs": [
    {
     "name": "stdout",
     "output_type": "stream",
     "text": [
      "(417107, 335)\n",
      "(594754, 335)\n",
      "594754\n"
     ]
    }
   ],
   "source": [
    "print(X_test.shape)\n",
    "print(X_train.shape)\n",
    "print(len(y_train))"
   ]
  },
  {
   "cell_type": "markdown",
   "id": "6f00a6d0",
   "metadata": {},
   "source": [
    "Since this outer join happens, some column will hold null value. We replace them with 0."
   ]
  },
  {
   "cell_type": "code",
   "execution_count": 28,
   "id": "f1bc989a",
   "metadata": {},
   "outputs": [],
   "source": [
    "X_train.fillna(0,inplace=True)\n",
    "X_test.fillna(0,inplace=True)"
   ]
  },
  {
   "cell_type": "code",
   "execution_count": 29,
   "id": "240198d8",
   "metadata": {},
   "outputs": [],
   "source": [
    "X_train.drop(['Client_ID'],axis=1,inplace=True)\n",
    "test=X_test.drop(['Client_ID'],axis=1)"
   ]
  },
  {
   "cell_type": "code",
   "execution_count": 2,
   "id": "9a895bff",
   "metadata": {},
   "outputs": [
    {
     "data": {
      "text/html": [
       "<div>\n",
       "<style scoped>\n",
       "    .dataframe tbody tr th:only-of-type {\n",
       "        vertical-align: middle;\n",
       "    }\n",
       "\n",
       "    .dataframe tbody tr th {\n",
       "        vertical-align: top;\n",
       "    }\n",
       "\n",
       "    .dataframe thead th {\n",
       "        text-align: right;\n",
       "    }\n",
       "</style>\n",
       "<table border=\"1\" class=\"dataframe\">\n",
       "  <thead>\n",
       "    <tr style=\"text-align: right;\">\n",
       "      <th></th>\n",
       "      <th>train-auc-mean</th>\n",
       "      <th>train-auc-std</th>\n",
       "      <th>test-auc-mean</th>\n",
       "      <th>test-auc-std</th>\n",
       "    </tr>\n",
       "  </thead>\n",
       "  <tbody>\n",
       "    <tr>\n",
       "      <th>1139</th>\n",
       "      <td>0.915514</td>\n",
       "      <td>0.001355</td>\n",
       "      <td>0.885807</td>\n",
       "      <td>0.006925</td>\n",
       "    </tr>\n",
       "  </tbody>\n",
       "</table>\n",
       "</div>"
      ],
      "text/plain": [
       "      train-auc-mean  train-auc-std  test-auc-mean  test-auc-std\n",
       "1139        0.915514       0.001355       0.885807      0.006925"
      ]
     },
     "execution_count": 2,
     "metadata": {},
     "output_type": "execute_result"
    }
   ],
   "source": [
    "dtrain = xgb.DMatrix(data=X_train, label=y_train)\n",
    "params={\n",
    "   \"objective\":\"binary:logistic\", \n",
    "    \"eta\":0.02, \n",
    "    \"max_depth\":5,\n",
    "    \"subsample\":0.6,\n",
    "    \"colsample_bytree\":0.85,\n",
    "    \"eval_metric\":\"auc\"\n",
    "}\n",
    "cv=xgb.cv(params=params, dtrain=dtrain, num_boost_round=1500, early_stopping_round=20, nfold=5, seed=41)\n",
    "cv.tail(1)"
   ]
  },
  {
   "cell_type": "markdown",
   "id": "e44cf7ee",
   "metadata": {},
   "source": [
    "So after 1140 rounds, the test auc mean starts to decrease. So, the model starts overfitting. So, for our final model, we run only for 1140 rounds."
   ]
  },
  {
   "cell_type": "code",
   "execution_count": 3,
   "id": "78b78958",
   "metadata": {},
   "outputs": [
    {
     "name": "stdout",
     "output_type": "stream",
     "text": [
      "ROC AUC: 0.9133873787117477\n"
     ]
    }
   ],
   "source": [
    "model=XGBClassifier(objective=\"binary:logistic\", \n",
    "    eta=0.02, \n",
    "    max_depth=5,\n",
    "    n_estimators=1140,\n",
    "    subsample=0.6,\n",
    "    colsample_bytree=0.85, \n",
    "    eval_metric=\"auc\")\n",
    "model.fit(X_train,y_train)\n",
    "probs=model.predict_proba(X_train)[:,1]\n",
    "print('ROC AUC:', metrics.roc_auc_score(y_train, probs))"
   ]
  },
  {
   "cell_type": "code",
   "execution_count": 92,
   "id": "a64cb936",
   "metadata": {},
   "outputs": [],
   "source": [
    "ans=model.predict_proba(test)[:,1]\n",
    "pred=pd.DataFrame(X_test['Client_ID'],columns=['Client_ID'])\n",
    "pred['Cross_Sell']=ans"
   ]
  },
  {
   "cell_type": "code",
   "execution_count": 4,
   "id": "1303093e",
   "metadata": {},
   "outputs": [
    {
     "data": {
      "text/html": [
       "<div>\n",
       "<style scoped>\n",
       "    .dataframe tbody tr th:only-of-type {\n",
       "        vertical-align: middle;\n",
       "    }\n",
       "\n",
       "    .dataframe tbody tr th {\n",
       "        vertical-align: top;\n",
       "    }\n",
       "\n",
       "    .dataframe thead th {\n",
       "        text-align: right;\n",
       "    }\n",
       "</style>\n",
       "<table border=\"1\" class=\"dataframe\">\n",
       "  <thead>\n",
       "    <tr style=\"text-align: right;\">\n",
       "      <th></th>\n",
       "      <th>Client_ID</th>\n",
       "      <th>Cross_Sell</th>\n",
       "    </tr>\n",
       "  </thead>\n",
       "  <tbody>\n",
       "    <tr>\n",
       "      <th>0</th>\n",
       "      <td>345612161</td>\n",
       "      <td>0.161187</td>\n",
       "    </tr>\n",
       "    <tr>\n",
       "      <th>1</th>\n",
       "      <td>345612467</td>\n",
       "      <td>0.001897</td>\n",
       "    </tr>\n",
       "    <tr>\n",
       "      <th>2</th>\n",
       "      <td>345612552</td>\n",
       "      <td>0.087501</td>\n",
       "    </tr>\n",
       "    <tr>\n",
       "      <th>3</th>\n",
       "      <td>345612557</td>\n",
       "      <td>0.028801</td>\n",
       "    </tr>\n",
       "    <tr>\n",
       "      <th>4</th>\n",
       "      <td>345612625</td>\n",
       "      <td>0.147585</td>\n",
       "    </tr>\n",
       "    <tr>\n",
       "      <th>...</th>\n",
       "      <td>...</td>\n",
       "      <td>...</td>\n",
       "    </tr>\n",
       "    <tr>\n",
       "      <th>417102</th>\n",
       "      <td>346663897</td>\n",
       "      <td>0.041935</td>\n",
       "    </tr>\n",
       "    <tr>\n",
       "      <th>417103</th>\n",
       "      <td>346663898</td>\n",
       "      <td>0.047131</td>\n",
       "    </tr>\n",
       "    <tr>\n",
       "      <th>417104</th>\n",
       "      <td>346663899</td>\n",
       "      <td>0.046873</td>\n",
       "    </tr>\n",
       "    <tr>\n",
       "      <th>417105</th>\n",
       "      <td>346663900</td>\n",
       "      <td>0.019929</td>\n",
       "    </tr>\n",
       "    <tr>\n",
       "      <th>417106</th>\n",
       "      <td>346663902</td>\n",
       "      <td>0.002655</td>\n",
       "    </tr>\n",
       "  </tbody>\n",
       "</table>\n",
       "<p>417107 rows × 2 columns</p>\n",
       "</div>"
      ],
      "text/plain": [
       "        Client_ID  Cross_Sell\n",
       "0       345612161    0.161187\n",
       "1       345612467    0.001897\n",
       "2       345612552    0.087501\n",
       "3       345612557    0.028801\n",
       "4       345612625    0.147585\n",
       "...           ...         ...\n",
       "417102  346663897    0.041935\n",
       "417103  346663898    0.047131\n",
       "417104  346663899    0.046873\n",
       "417105  346663900    0.019929\n",
       "417106  346663902    0.002655\n",
       "\n",
       "[417107 rows x 2 columns]"
      ]
     },
     "execution_count": 4,
     "metadata": {},
     "output_type": "execute_result"
    }
   ],
   "source": [
    "pred"
   ]
  },
  {
   "cell_type": "code",
   "execution_count": 94,
   "id": "38654fa2",
   "metadata": {},
   "outputs": [],
   "source": [
    "pred.to_csv('Final.csv', index=False)"
   ]
  },
  {
   "cell_type": "code",
   "execution_count": null,
   "id": "e737daef",
   "metadata": {},
   "outputs": [],
   "source": []
  },
  {
   "cell_type": "code",
   "execution_count": null,
   "id": "15d5dcc1",
   "metadata": {},
   "outputs": [],
   "source": []
  }
 ],
 "metadata": {
  "kernelspec": {
   "display_name": "Python 3",
   "language": "python",
   "name": "python3"
  },
  "language_info": {
   "codemirror_mode": {
    "name": "ipython",
    "version": 3
   },
   "file_extension": ".py",
   "mimetype": "text/x-python",
   "name": "python",
   "nbconvert_exporter": "python",
   "pygments_lexer": "ipython3",
   "version": "3.8.8"
  }
 },
 "nbformat": 4,
 "nbformat_minor": 5
}
